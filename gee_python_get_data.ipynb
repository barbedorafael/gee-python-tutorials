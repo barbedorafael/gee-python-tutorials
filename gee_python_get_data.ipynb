{
  "nbformat": 4,
  "nbformat_minor": 0,
  "metadata": {
    "colab": {
      "provenance": []
    },
    "kernelspec": {
      "name": "python3",
      "display_name": "Python 3"
    },
    "language_info": {
      "name": "python"
    }
  },
  "cells": [
    {
      "cell_type": "code",
      "execution_count": 3,
      "metadata": {
        "id": "j1KXcgxfpvbi"
      },
      "outputs": [],
      "source": [
        "import ee"
      ]
    },
    {
      "cell_type": "code",
      "source": [
        "# Trigger the authentication flow.\n",
        "ee.Authenticate()\n",
        "\n",
        "# Initialize the library.\n",
        "ee.Initialize()"
      ],
      "metadata": {
        "colab": {
          "base_uri": "https://localhost:8080/"
        },
        "id": "YN0cRuwGv0q9",
        "outputId": "aa1b7236-7594-47f5-8156-bc9997d5cdab"
      },
      "execution_count": 4,
      "outputs": [
        {
          "output_type": "stream",
          "name": "stdout",
          "text": [
            "To authorize access needed by Earth Engine, open the following URL in a web browser and follow the instructions. If the web browser does not start automatically, please manually browse the URL below.\n",
            "\n",
            "    https://code.earthengine.google.com/client-auth?scopes=https%3A//www.googleapis.com/auth/earthengine%20https%3A//www.googleapis.com/auth/devstorage.full_control&request_id=Qdh0EvkeYFR722SlFAjHqoWvzfyM98dL7nhl8jacXpo&tc=1rh4MaEZ8cUofP6NVTAU3MUWs7YJzWM5oM0tWjjRJjI&cc=vp7cZs6pZ_reA-cBD0XwAPQQmENBRUqVbObuL9Y6n74\n",
            "\n",
            "The authorization workflow will generate a code, which you should paste in the box below.\n",
            "Enter verification code: 4/1AWtgzh40U7bUu52w7TQLG42D3vhHaLKn3QQghrh-0RO32GydjSmSHH8XF7A\n",
            "\n",
            "Successfully saved authorization token.\n"
          ]
        }
      ]
    },
    {
      "cell_type": "code",
      "source": [
        "def col2monthly(col):\n",
        "    \n",
        "    def monthly(m):\n",
        "        return (col.filter(ee.Filter.calendarRange(y_start, y_end, 'year'))\n",
        "                .filter(ee.Filter.calendarRange(m, m, 'month')).mean()\n",
        "                .set('month', m)\n",
        "                .set('system:index', ee.Number(m).format('%02d'))\n",
        "                )\n",
        "\n",
        "    months = ee.List.sequence(1, 12)\n",
        "    col_m = ee.ImageCollection.fromImages(months.map(monthly).flatten())\n",
        "    \n",
        "    return col_m\n",
        "\n",
        "def grid2scale(img):\n",
        "    return img.reproject(crs='EPSG:4326', scale=img.projection().nominalScale())#.clip(refpoly)\n"
      ],
      "metadata": {
        "id": "6DCBFyQxqLD9"
      },
      "execution_count": 5,
      "outputs": []
    },
    {
      "cell_type": "code",
      "source": [
        "# Precipitation\n",
        "# gives mm/month\n",
        "y_start = 2001\n",
        "y_end = 2020\n",
        "\n",
        "p = col2monthly(ee.ImageCollection(\"NASA/GPM_L3/IMERG_MONTHLY_V06\")\n",
        "                .select(['precipitation'], ['P'])\n",
        "                .filter(ee.Filter.calendarRange(y_start, y_end, 'year'))\n",
        "                ) # monthly precipitation\n",
        "\n",
        "p_avg = p.mean().multiply(24*30).rename('p_avg')\n",
        "p_min = p.min().multiply(24*30).rename('p_min')\n",
        "p_max = p.max().multiply(24*30).rename('p_max')"
      ],
      "metadata": {
        "id": "Xx3w2BHNqVZ0"
      },
      "execution_count": 6,
      "outputs": []
    },
    {
      "cell_type": "code",
      "source": [
        "# Temperature\n",
        "# gives celsius\n",
        "y_start = 2001\n",
        "y_end = 2020\n",
        "\n",
        "t = col2monthly(ee.ImageCollection(\"ECMWF/ERA5_LAND/MONTHLY\")\n",
        "                .select(['temperature_2m'], ['T'])\n",
        "                .filter(ee.Filter.calendarRange(y_start, y_end, 'year'))\n",
        "                )\n",
        "\n",
        "t_avg = t.mean().rename('t_avg').subtract(273.15)\n",
        "t_min = t.min().rename('t_min').subtract(273.15)\n",
        "t_max = t.max().rename('t_max').subtract(273.15)"
      ],
      "metadata": {
        "id": "HppcRPGCrK-I"
      },
      "execution_count": 7,
      "outputs": []
    },
    {
      "cell_type": "code",
      "source": [
        "# ET\n",
        "# Gives mm\n",
        "y_start = 2001\n",
        "y_end = 2020\n",
        "\n",
        "et = col2monthly(ee.ImageCollection(\"MODIS/NTSG/MOD16A2/105\")\n",
        "                .select('ET')\n",
        "                .filter(ee.Filter.calendarRange(y_start, y_end, 'year'))\n",
        "                )\n",
        "\n",
        "et_avg = et.mean().rename('et_avg').divide(80)\n",
        "et_min = et.min().rename('et_min').divide(80)\n",
        "et_max = et.max().rename('et_max').divide(80)"
      ],
      "metadata": {
        "id": "hcUwXjAwrcOo"
      },
      "execution_count": 8,
      "outputs": []
    },
    {
      "cell_type": "code",
      "source": [
        "# Elevation and Slope\n",
        "import math\n",
        "\n",
        "dem = ee.Image(\"MERIT/DEM/v1_0_3\").select('dem')\n",
        "slp = ee.Terrain.slope(dem).divide(180).multiply(ee.Number(math.pi)).tan().multiply(100).rename('slp')"
      ],
      "metadata": {
        "id": "a3wIuPC4rpHH"
      },
      "execution_count": 9,
      "outputs": []
    },
    {
      "cell_type": "code",
      "source": [
        "# Soil data\n",
        "\n",
        "soil_texture = ee.Image(\"OpenLandMap/SOL/SOL_TEXTURE-CLASS_USDA-TT_M/v02\").select('b0').rename('soiltext')\n",
        "\n",
        "soil_clay_content = ee.Image(\"OpenLandMap/SOL/SOL_CLAY-WFRACTION_USDA-3A1A1A_M/v02\").select('b0').rename('soilclay')\n",
        "soil_sand_content = ee.Image(\"OpenLandMap/SOL/SOL_SAND-WFRACTION_USDA-3A1A1A_M/v02\").select('b0').rename('soilsand')\n",
        "soil_organic_content = ee.Image(\"OpenLandMap/SOL/SOL_ORGANIC-CARBON_USDA-6A1C_M/v02\").select('b0').rename('soilorga')\n",
        "\n",
        "soil_density = ee.Image(\"OpenLandMap/SOL/SOL_BULKDENS-FINEEARTH_USDA-4A1H_M/v02\").select('b0').rename('soildens')"
      ],
      "metadata": {
        "id": "18PoovWOrw13"
      },
      "execution_count": 10,
      "outputs": []
    },
    {
      "cell_type": "code",
      "source": [
        "# Land cover\n",
        "# MODIS #####\n",
        "# 1 Evergreen Needleleaf Forests\n",
        "# 2 Evergreen Broadleaf Forests\n",
        "# 3 Deciduous Needleleaf Forests\n",
        "# 4 Deciduous Broadleaf Forests\n",
        "# 5 Mixed Forests\n",
        "# 6 Closed Shrublands\n",
        "# 7 Open Shrublands\n",
        "# 8 Woody Savannas\n",
        "# 9 Savannas\n",
        "# 10 Grasslands\n",
        "# 11 Permanent Wetlands\n",
        "# 12 Croplands\n",
        "# 13 Urban and Built-up Lands\n",
        "# 14 Cropland/Natural Vegetation Mosaics\n",
        "# 15 Permanent Snow and Ice\n",
        "# 16 Barren\n",
        "# 17 Water Bodies\n",
        "\n",
        "year = 2010\n",
        "imgcol = ee.ImageCollection(\"MODIS/006/MCD12Q1\").select('LC_Type1')\n",
        "img1 = imgcol.filter(ee.Filter.calendarRange(year, year, 'year')).first()\n",
        "img = img1.reproject('EPSG:4326', scale=img1.projection().nominalScale())\n",
        "\n",
        "old_classes = [1, 2, 3, 4, 5, 6, 7, 8, 9, 10, 11, 12, 13, 14, 15, 16, 17]\n",
        "new_classes = [1, 1, 1, 1, 1, 2, 2, 2, 3,  3,  3,  3,  4,  3,  4,  4,  5]\n",
        "lc = img.remap(old_classes, new_classes).rename('LC')"
      ],
      "metadata": {
        "id": "siAxLkVOr6Iv"
      },
      "execution_count": 11,
      "outputs": []
    },
    {
      "cell_type": "code",
      "source": [
        "def imgExtract(img, img_name, scale, refpoly, folder):\n",
        "    img = img.clip(refpoly)\n",
        "    \n",
        "    task_config = {\n",
        "            'image': img,\n",
        "            'description': img_name,\n",
        "            'folder': folder,\n",
        "            'scale': scale,\n",
        "            'region': refpoly,\n",
        "            'maxPixels': 1e12\n",
        "            }\n",
        "    task = ee.batch.Export.image.toDrive(**task_config)\n",
        "    task.start()\n",
        "\n",
        "    return\n",
        "\n",
        "def fcExtract(fc, description, folder):\n",
        "\n",
        "    task_config = {\n",
        "      'collection': fc,\n",
        "      'folder': folder,\n",
        "      'description': description,\n",
        "      'fileFormat': 'CSV',\n",
        "      # 'selectors': selectors\n",
        "          }\n",
        "    task = ee.batch.Export.table.toDrive(**task_config)\n",
        "    task.start()\n",
        "\n",
        "    return\n",
        "\n",
        "def img2scale(img, scale):\n",
        "    return img.reproject('EPSG:4326', scale=scale)\n",
        "\n",
        "def remove_geom(feat):\n",
        "    return feat.setGeometry(None)\n",
        "\n",
        "# Region of Interest\n",
        "Fc = ee.FeatureCollection(\"FAO/GAUL/2015/level0\");\n",
        "folder = 'GEE_intro'\n",
        "\n",
        "# Agg climate features (P and T and E)    \n",
        "img = p.toBands().multiply(24*30)\n",
        "Fc = img2scale(img, 1000).reduceRegions(Fc, ee.Reducer.mean())\n",
        "\n",
        "img = t.toBands().subtract(273.15)\n",
        "Fc = img2scale(img, 1000).reduceRegions(Fc, ee.Reducer.mean())\n",
        "\n",
        "img = et.toBands()\n",
        "Fc = img2scale(img, 1000).reduceRegions(Fc, ee.Reducer.mean())\n",
        "\n",
        "# Agg topography features\n",
        "img = dem.rename('elv_avg').addBands(slp.rename('slp_avg'))\n",
        "Fc = img2scale(img, 90).reduceRegions(Fc, ee.Reducer.mean())\n",
        "\n",
        "img = dem.rename('elv_std').addBands(slp.rename('slp_std'))\n",
        "Fc = img2scale(img, 90).reduceRegions(Fc, ee.Reducer.stdDev())\n",
        "\n",
        "# Agg soil and land cover features\n",
        "img = soil_density.addBands(soil_clay_content).addBands(soil_sand_content).addBands(soil_organic_content)\n",
        "Fc = img2scale(img, 250).reduceRegions(Fc, ee.Reducer.mean())\n",
        "\n",
        "img = lc.addBands(soil_texture)\n",
        "Fc = img2scale(img, 250).reduceRegions(Fc, ee.Reducer.frequencyHistogram())\n",
        "\n",
        "# Code to extract variables to basins\n",
        "# If memory limit exceeded, do it in chunks accordingly (trial and error)\n",
        "fcExtract(Fc.map(remove_geom), 'countries_features', folder)"
      ],
      "metadata": {
        "id": "5RxCqUH3sQlA"
      },
      "execution_count": 14,
      "outputs": []
    }
  ]
}